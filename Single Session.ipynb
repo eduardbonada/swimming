{
 "cells": [
  {
   "cell_type": "markdown",
   "metadata": {},
   "source": [
    "### Import lengths data"
   ]
  },
  {
   "cell_type": "code",
   "execution_count": 68,
   "metadata": {
    "collapsed": false
   },
   "outputs": [],
   "source": [
    "from bs4 import BeautifulSoup\n",
    "from pprint import pprint "
   ]
  },
  {
   "cell_type": "code",
   "execution_count": 107,
   "metadata": {
    "collapsed": true
   },
   "outputs": [],
   "source": [
    "lengths_raw = []\n",
    "lengths = []"
   ]
  },
  {
   "cell_type": "code",
   "execution_count": 108,
   "metadata": {
    "collapsed": false
   },
   "outputs": [],
   "source": [
    "# load the HTML code from http://www.swimmingwatchtools.com/viewer\n",
    "soup = BeautifulSoup(open('sessions/20160926 1800.html'), 'html.parser')\n",
    "table = soup.find(id = 'lengths')"
   ]
  },
  {
   "cell_type": "code",
   "execution_count": 109,
   "metadata": {
    "collapsed": false
   },
   "outputs": [],
   "source": [
    "# parse the html and select the info about lengths\n",
    "rows = table.find_all('tr')\n",
    "for row in rows:\n",
    "    cols = row.find_all('td')\n",
    "    cols = [col.text.strip() for col in cols]\n",
    "    lengths_raw.append([col for col in cols])\n",
    "del lengths_raw[0] # remove first empty element"
   ]
  },
  {
   "cell_type": "code",
   "execution_count": 110,
   "metadata": {
    "collapsed": false
   },
   "outputs": [
    {
     "name": "stdout",
     "output_type": "stream",
     "text": [
      "110 lengths detected\n"
     ]
    }
   ],
   "source": [
    "# Construct the final lengths list with a dictionary for each length\n",
    "for length in lengths_raw:\n",
    "    ### SANITY CHECK OF INTERVAL DATA ??? ###\n",
    "    ### KEEP TRACK OF REST TIME ??? ###\n",
    "    if ('Interval' not in length[0]) and ('Rest' not in length[0]):\n",
    "        lengths.append({\n",
    "                'count':    length[0],\n",
    "                'distance': length[1],\n",
    "                'style':    length[2],\n",
    "                'time':     length[3],\n",
    "                'strokes':  length[6]\n",
    "            })\n",
    "print(len(lengths),'lengths detected')"
   ]
  },
  {
   "cell_type": "code",
   "execution_count": null,
   "metadata": {
    "collapsed": true
   },
   "outputs": [],
   "source": [
    "### WHERE TO STORE ??? ###\n",
    "# - SQLite?\n",
    "# - CSV file ?"
   ]
  }
 ],
 "metadata": {
  "anaconda-cloud": {},
  "kernelspec": {
   "display_name": "Python [Root]",
   "language": "python",
   "name": "Python [Root]"
  },
  "language_info": {
   "codemirror_mode": {
    "name": "ipython",
    "version": 3
   },
   "file_extension": ".py",
   "mimetype": "text/x-python",
   "name": "python",
   "nbconvert_exporter": "python",
   "pygments_lexer": "ipython3",
   "version": "3.5.2"
  }
 },
 "nbformat": 4,
 "nbformat_minor": 0
}
